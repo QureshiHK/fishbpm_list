{
 "cells": [
  {
   "cell_type": "code",
   "execution_count": 1,
   "id": "12d799e9-eedf-4b2f-b2b0-7e6e497b713d",
   "metadata": {},
   "outputs": [],
   "source": [
    "from os import listdir, walk\n",
    "import pandas as pd\n",
    "from statistics import fmean\n",
    "from csv import writer"
   ]
  },
  {
   "cell_type": "code",
   "execution_count": 18,
   "id": "f6df9cc4-23bd-4d7a-8ee1-02b63a2fde4b",
   "metadata": {},
   "outputs": [
    {
     "name": "stdin",
     "output_type": "stream",
     "text": [
      "input full directory path here, remember to end directory in / gggg/\n"
     ]
    }
   ],
   "source": [
    "filepath = input('input full directory path here, remember to end directory in /')"
   ]
  },
  {
   "cell_type": "code",
   "execution_count": 19,
   "id": "10d16042-285d-4b75-9a94-c534bd531438",
   "metadata": {},
   "outputs": [
    {
     "data": {
      "text/plain": [
       "'gggg/'"
      ]
     },
     "execution_count": 19,
     "metadata": {},
     "output_type": "execute_result"
    }
   ],
   "source": [
    "filepath"
   ]
  },
  {
   "cell_type": "code",
   "execution_count": 2,
   "id": "30dfcabf-80a0-401d-86b2-56de347ab0d8",
   "metadata": {},
   "outputs": [],
   "source": [
    "filepath = 'C:/Users/hkqur/Documents/python_A/fishbpm/'"
   ]
  },
  {
   "cell_type": "code",
   "execution_count": 12,
   "id": "bb7db918-122f-4f20-b43e-4827b313042c",
   "metadata": {},
   "outputs": [
    {
     "data": {
      "text/plain": [
       "['20250214_Has2_Fish12_peaks_Atrium.csv',\n",
       " '20250214_Has2_Fish1_peaks_Ventricle.csv']"
      ]
     },
     "execution_count": 12,
     "metadata": {},
     "output_type": "execute_result"
    }
   ],
   "source": [
    "directory_files = listdir(filepath)\n",
    "directory_files = [b for b in directory_files if b.endswith('.csv') is True]\n",
    "directory_files"
   ]
  },
  {
   "cell_type": "code",
   "execution_count": 15,
   "id": "82481011-9867-4c2b-8312-e878f7f8ea68",
   "metadata": {},
   "outputs": [
    {
     "name": "stdout",
     "output_type": "stream",
     "text": [
      "[nan, 14.0, 12.0, 11.0, 14.0, 12.0, 12.0, 13.0, 14.0, 12.0, 12.0, 13.0, 12.0, 14.0, 12.0, 13.0, 13.0, 12.0, 12.0, 12.0, 12.0, 12.0, 14.0, 13.0]\n",
      "[nan, 13.0, 14.0, 15.0, 14.0, 14.0, 14.0, 13.0, 14.0, 14.0, 14.0, 14.0, 15.0, 13.0, 14.0, 14.0, 14.0, 14.0, 14.0, 14.0, 14.0, 14.0]\n"
     ]
    }
   ],
   "source": [
    "with open(filepath+'fishbpm/fishbpm.csv', 'w', newline='') as csvfile:\n",
    "    writer_object = writer(csvfile)\n",
    "    writer_object.writerow(['filename','bpm'])\n",
    "    \n",
    "    for a in directory_files:\n",
    "        if filepath.endswith('/') is True:\n",
    "            fish_df = pd.read_csv(filepath+a)\n",
    "        else:    \n",
    "            fish_df = pd.read_csv(filepath+'/'+a)\n",
    "        frametimelist = fish_df['Unnamed: 2'].tolist()\n",
    "        print(frametimelist)\n",
    "        fishbpm = ((fish_df.iloc[len(fish_df)-1,1]-fish_df.iloc[0,1])*fmean(frametimelist[1:]))/60\n",
    "        #print(fishbpm)\n",
    "        \n",
    "    \n",
    "        writer_object.writerow([a,fishbpm])\n",
    "        "
   ]
  },
  {
   "cell_type": "code",
   "execution_count": null,
   "id": "e9781b8c-362a-4bec-ae24-3080e660b56f",
   "metadata": {},
   "outputs": [],
   "source": []
  }
 ],
 "metadata": {
  "kernelspec": {
   "display_name": "Python 3 (ipykernel)",
   "language": "python",
   "name": "python3"
  },
  "language_info": {
   "codemirror_mode": {
    "name": "ipython",
    "version": 3
   },
   "file_extension": ".py",
   "mimetype": "text/x-python",
   "name": "python",
   "nbconvert_exporter": "python",
   "pygments_lexer": "ipython3",
   "version": "3.9.19"
  }
 },
 "nbformat": 4,
 "nbformat_minor": 5
}
